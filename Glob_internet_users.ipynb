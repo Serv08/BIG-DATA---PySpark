{
 "cells": [
  {
   "cell_type": "code",
   "execution_count": 1,
   "metadata": {},
   "outputs": [],
   "source": [
    "# Import modules\n",
    "from pyspark import SparkContext"
   ]
  },
  {
   "cell_type": "code",
   "execution_count": 2,
   "metadata": {},
   "outputs": [
    {
     "name": "stderr",
     "output_type": "stream",
     "text": [
      "C:\\Users\\EDMAR\\AppData\\Local\\Packages\\PythonSoftwareFoundation.Python.3.7_qbz5n2kfra8p0\\LocalCache\\local-packages\\Python37\\site-packages\\pyspark\\context.py:317: FutureWarning: Python 3.7 support is deprecated in Spark 3.4.\n",
      "  warnings.warn(\"Python 3.7 support is deprecated in Spark 3.4.\", FutureWarning)\n"
     ]
    }
   ],
   "source": [
    "# Create instance for Sparkcontext\n",
    "sc = SparkContext()"
   ]
  },
  {
   "cell_type": "code",
   "execution_count": 3,
   "metadata": {},
   "outputs": [
    {
     "name": "stdout",
     "output_type": "stream",
     "text": [
      "Data type is  <class 'pyspark.rdd.RDD'>\n"
     ]
    }
   ],
   "source": [
    "# Load dataset as RDD\n",
    "filePath = \"Global Internet Users/Final.csv\"\n",
    "dataSetRDD = sc.textFile(filePath)\n",
    "print(\"Data type is \", type(dataSetRDD))"
   ]
  },
  {
   "cell_type": "code",
   "execution_count": 11,
   "metadata": {},
   "outputs": [
    {
     "name": "stdout",
     "output_type": "stream",
     "text": [
      "['6420', 'Philippines', 'PHL', '1980', '0', '0', '0', '0']\n",
      "['6421', 'Philippines', 'PHL', '1981', '0', '0', '0', '0']\n",
      "['6422', 'Philippines', 'PHL', '1982', '0', '0', '0', '0']\n",
      "['6423', 'Philippines', 'PHL', '1983', '0', '0', '0', '0']\n",
      "['6424', 'Philippines', 'PHL', '1984', '0', '0', '0', '0']\n",
      "['6425', 'Philippines', 'PHL', '1985', '0', '0', '0', '0']\n",
      "['6426', 'Philippines', 'PHL', '1986', '0', '0', '0', '0']\n",
      "['6427', 'Philippines', 'PHL', '1987', '0', '0', '0', '0']\n",
      "['6428', 'Philippines', 'PHL', '1988', '0', '0', '0', '0']\n",
      "['6429', 'Philippines', 'PHL', '1989', '0', '0', '0', '0']\n",
      "['6430', 'Philippines', 'PHL', '1990', '0', '0', '0', '0']\n",
      "['6431', 'Philippines', 'PHL', '1991', '0.054527014', '0', '0', '0']\n",
      "['6432', 'Philippines', 'PHL', '1992', '0.086194865', '0', '0', '0']\n",
      "['6433', 'Philippines', 'PHL', '1993', '0.153767824', '0', '0', '0']\n",
      "['6434', 'Philippines', 'PHL', '1994', '0.252127945', '0.005844253', '3954', '0']\n",
      "['6435', 'Philippines', 'PHL', '1995', '0.707700014', '0.028585702', '19796', '0']\n",
      "['6436', 'Philippines', 'PHL', '1996', '1.34313798', '0.05594603', '39691', '0']\n",
      "['6437', 'Philippines', 'PHL', '1997', '1.83979702', '0.136912957', '99562', '0']\n",
      "['6438', 'Philippines', 'PHL', '1998', '2.321689129', '1.103405952', '821948', '0']\n",
      "['6439', 'Philippines', 'PHL', '1999', '3.733960629', '1.431608796', '1091588', '0']\n",
      "['6440', 'Philippines', 'PHL', '2000', '8.275693893', '1.982253194', '1545329', '0']\n",
      "['6441', 'Philippines', 'PHL', '2001', '15.26135921', '2.524005651', '2009767', '0.012551323']\n",
      "['6442', 'Philippines', 'PHL', '2002', '18.90610504', '4.332275867', '3521515', '0.025809541']\n",
      "['6443', 'Philippines', 'PHL', '2003', '27.10298157', '4.857672215', '4029091', '0.066223592']\n",
      "['6444', 'Philippines', 'PHL', '2004', '38.88049316', '5.243628502', '4436503', '0.105063662']\n",
      "['6445', 'Philippines', 'PHL', '2005', '40.28785706', '5.397636414', '4656069', '0.142482728']\n",
      "['6446', 'Philippines', 'PHL', '2006', '48.77637482', '5.740586281', '5046081', '0.301551938']\n",
      "['6447', 'Philippines', 'PHL', '2007', '64.14015198', '5.96999979', '5346814', '0.554944694']\n",
      "['6448', 'Philippines', 'PHL', '2008', '74.93476105', '6.21999979', '5675895', '1.15037775']\n",
      "['6449', 'Philippines', 'PHL', '2009', '81.79119873', '9', '8365226', '1.863791227']\n",
      "['6450', 'Philippines', 'PHL', '2010', '88.48886871', '25', '23659176', '0']\n",
      "['6451', 'Philippines', 'PHL', '2011', '98.55576324', '29', '27937994', '1.874018073']\n",
      "['6452', 'Philippines', 'PHL', '2012', '104.9023514', '30.79999924', '30193954', '2.208148956']\n",
      "['6453', 'Philippines', 'PHL', '2013', '103.9971161', '32.70000076', '32601937', '2.60216403']\n",
      "['6454', 'Philippines', 'PHL', '2014', '110.7576981', '34.70000076', '35159848', '2.885194778']\n",
      "['6455', 'Philippines', 'PHL', '2015', '115.399437', '36.90000153', '38018573', '2.839985132']\n",
      "['6456', 'Philippines', 'PHL', '2016', '115.8522797', '39.20000076', '41111107', '2.879936457']\n",
      "['6457', 'Philippines', 'PHL', '2017', '114.071106', '41.59999847', '44403213', '3.232097149']\n",
      "['6458', 'Philippines', 'PHL', '2018', '126.2046509', '44.09999847', '47878853', '3.552217007']\n",
      "['6459', 'Philippines', 'PHL', '2019', '154.7610779', '43.02661133', '47493118', '5.475649834']\n",
      "['6460', 'Philippines', 'PHL', '2020', '136.5011292', '49.79999924', '55871109', '7.242650032']\n"
     ]
    }
   ],
   "source": [
    "# Basic RDD Transformation\n",
    "\n",
    "# splits csv into list\n",
    "dataSetRDD_map = dataSetRDD.map(lambda line: line.split(\",\"))\n",
    "\n",
    "# exclude the title\n",
    "title = dataSetRDD_map.first()\n",
    "data = dataSetRDD_map.filter(lambda x: x!=title)\n",
    "\n",
    "# extract specific group of row\n",
    "Entity = 1  # index of country in dataset\n",
    "PH_internetUsers = data.filter(lambda row: row[Entity] == \"Philippines\" )\n",
    "PH_internetUsers_cllct = PH_internetUsers.collect()\n",
    "\n",
    "# Print output\n",
    "for row in PH_internetUsers_cllct:\n",
    "    print(row)"
   ]
  },
  {
   "cell_type": "code",
   "execution_count": null,
   "metadata": {},
   "outputs": [],
   "source": []
  }
 ],
 "metadata": {
  "kernelspec": {
   "display_name": "Python 3",
   "language": "python",
   "name": "python3"
  },
  "language_info": {
   "codemirror_mode": {
    "name": "ipython",
    "version": 3
   },
   "file_extension": ".py",
   "mimetype": "text/x-python",
   "name": "python",
   "nbconvert_exporter": "python",
   "pygments_lexer": "ipython3",
   "version": "3.7.9"
  },
  "orig_nbformat": 4
 },
 "nbformat": 4,
 "nbformat_minor": 2
}
